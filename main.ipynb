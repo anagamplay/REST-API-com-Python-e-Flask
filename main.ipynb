{
 "cells": [
  {
   "cell_type": "code",
   "execution_count": 3,
   "metadata": {},
   "outputs": [],
   "source": [
    "import json\n",
    "import requests"
   ]
  },
  {
   "cell_type": "markdown",
   "metadata": {},
   "source": [
    "# GET /hoteis"
   ]
  },
  {
   "cell_type": "code",
   "execution_count": 4,
   "metadata": {},
   "outputs": [
    {
     "ename": "SyntaxError",
     "evalue": "unterminated string literal (detected at line 1) (2197846055.py, line 1)",
     "output_type": "error",
     "traceback": [
      "\u001b[0;36m  Cell \u001b[0;32mIn[4], line 1\u001b[0;36m\u001b[0m\n\u001b[0;31m    URL = 'http://127.0.0.1:5000''\u001b[0m\n\u001b[0m                                 ^\u001b[0m\n\u001b[0;31mSyntaxError\u001b[0m\u001b[0;31m:\u001b[0m unterminated string literal (detected at line 1)\n"
     ]
    }
   ],
   "source": [
    "URL = 'http://127.0.0.1:5000''"
   ]
  },
  {
   "cell_type": "code",
   "execution_count": 5,
   "metadata": {},
   "outputs": [
    {
     "ename": "NameError",
     "evalue": "name 'URL' is not defined",
     "output_type": "error",
     "traceback": [
      "\u001b[0;31m---------------------------------------------------------------------------\u001b[0m",
      "\u001b[0;31mNameError\u001b[0m                                 Traceback (most recent call last)",
      "Cell \u001b[0;32mIn[5], line 1\u001b[0m\n\u001b[0;32m----> 1\u001b[0m resposta_hoteis \u001b[38;5;241m=\u001b[39m requests\u001b[38;5;241m.\u001b[39mrequest(\u001b[38;5;124m'\u001b[39m\u001b[38;5;124mGET\u001b[39m\u001b[38;5;124m'\u001b[39m, \u001b[43mURL\u001b[49m \u001b[38;5;241m+\u001b[39m \u001b[38;5;124m'\u001b[39m\u001b[38;5;124m/hoteis\u001b[39m\u001b[38;5;124m'\u001b[39m)\n",
      "\u001b[0;31mNameError\u001b[0m: name 'URL' is not defined"
     ]
    }
   ],
   "source": [
    "resposta_hoteis = requests.request('GET', URL + '/hoteis')"
   ]
  },
  {
   "cell_type": "code",
   "execution_count": null,
   "metadata": {},
   "outputs": [],
   "source": [
    "resposta_hoteis.status_code"
   ]
  },
  {
   "cell_type": "code",
   "execution_count": null,
   "metadata": {},
   "outputs": [],
   "source": [
    "hoteis = resposta_hoteis.json()"
   ]
  },
  {
   "cell_type": "code",
   "execution_count": null,
   "metadata": {},
   "outputs": [],
   "source": [
    "lista_hoteis = hoteis['hoteis'][0]"
   ]
  },
  {
   "cell_type": "code",
   "execution_count": null,
   "metadata": {},
   "outputs": [],
   "source": [
    "len(hoteis['hoteis'])"
   ]
  },
  {
   "cell_type": "code",
   "execution_count": null,
   "metadata": {},
   "outputs": [],
   "source": [
    "for hotel in lista_hoteis:\n",
    "    print(hotel['nome'])"
   ]
  },
  {
   "cell_type": "markdown",
   "metadata": {},
   "source": [
    "# Mercado Livre"
   ]
  },
  {
   "cell_type": "code",
   "execution_count": null,
   "metadata": {},
   "outputs": [],
   "source": [
    "ML_URL = 'https://api.mercadolibre.com/sites'"
   ]
  },
  {
   "cell_type": "code",
   "execution_count": 6,
   "metadata": {},
   "outputs": [],
   "source": [
    "ML_URL = 'https://api.mercadolibre.com/sites/MLB/categories'"
   ]
  },
  {
   "cell_type": "code",
   "execution_count": 7,
   "metadata": {},
   "outputs": [],
   "source": [
    "lista_sites = requests.request('GET', ML_URL)"
   ]
  },
  {
   "cell_type": "code",
   "execution_count": 8,
   "metadata": {},
   "outputs": [
    {
     "data": {
      "text/plain": [
       "<Response [200]>"
      ]
     },
     "execution_count": 8,
     "metadata": {},
     "output_type": "execute_result"
    }
   ],
   "source": [
    "lista_sites"
   ]
  },
  {
   "cell_type": "code",
   "execution_count": 9,
   "metadata": {},
   "outputs": [
    {
     "data": {
      "text/plain": [
       "[{'id': 'MLB5672', 'name': 'Acessórios para Veículos'},\n",
       " {'id': 'MLB271599', 'name': 'Agro'},\n",
       " {'id': 'MLB1403', 'name': 'Alimentos e Bebidas'},\n",
       " {'id': 'MLB1071', 'name': 'Animais'},\n",
       " {'id': 'MLB1367', 'name': 'Antiguidades e Coleções'},\n",
       " {'id': 'MLB1368', 'name': 'Arte, Papelaria e Armarinho'},\n",
       " {'id': 'MLB1384', 'name': 'Bebês'},\n",
       " {'id': 'MLB1246', 'name': 'Beleza e Cuidado Pessoal'},\n",
       " {'id': 'MLB1132', 'name': 'Brinquedos e Hobbies'},\n",
       " {'id': 'MLB1430', 'name': 'Calçados, Roupas e Bolsas'},\n",
       " {'id': 'MLB1039', 'name': 'Câmeras e Acessórios'},\n",
       " {'id': 'MLB1743', 'name': 'Carros, Motos e Outros'},\n",
       " {'id': 'MLB1574', 'name': 'Casa, Móveis e Decoração'},\n",
       " {'id': 'MLB1051', 'name': 'Celulares e Telefones'},\n",
       " {'id': 'MLB1500', 'name': 'Construção'},\n",
       " {'id': 'MLB5726', 'name': 'Eletrodomésticos'},\n",
       " {'id': 'MLB1000', 'name': 'Eletrônicos, Áudio e Vídeo'},\n",
       " {'id': 'MLB1276', 'name': 'Esportes e Fitness'},\n",
       " {'id': 'MLB263532', 'name': 'Ferramentas'},\n",
       " {'id': 'MLB12404', 'name': 'Festas e Lembrancinhas'},\n",
       " {'id': 'MLB1144', 'name': 'Games'},\n",
       " {'id': 'MLB1459', 'name': 'Imóveis'},\n",
       " {'id': 'MLB1499', 'name': 'Indústria e Comércio'},\n",
       " {'id': 'MLB1648', 'name': 'Informática'},\n",
       " {'id': 'MLB218519', 'name': 'Ingressos'},\n",
       " {'id': 'MLB1182', 'name': 'Instrumentos Musicais'},\n",
       " {'id': 'MLB3937', 'name': 'Joias e Relógios'},\n",
       " {'id': 'MLB1196', 'name': 'Livros, Revistas e Comics'},\n",
       " {'id': 'MLB1168', 'name': 'Música, Filmes e Seriados'},\n",
       " {'id': 'MLB264586', 'name': 'Saúde'},\n",
       " {'id': 'MLB1540', 'name': 'Serviços'},\n",
       " {'id': 'MLB1953', 'name': 'Mais Categorias'}]"
      ]
     },
     "execution_count": 9,
     "metadata": {},
     "output_type": "execute_result"
    }
   ],
   "source": [
    "lista_sites.json()"
   ]
  }
 ],
 "metadata": {
  "kernelspec": {
   "display_name": "ambvir",
   "language": "python",
   "name": "python3"
  },
  "language_info": {
   "codemirror_mode": {
    "name": "ipython",
    "version": 3
   },
   "file_extension": ".py",
   "mimetype": "text/x-python",
   "name": "python",
   "nbconvert_exporter": "python",
   "pygments_lexer": "ipython3",
   "version": "3.12.1"
  }
 },
 "nbformat": 4,
 "nbformat_minor": 2
}
